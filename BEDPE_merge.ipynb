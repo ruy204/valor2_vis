{
 "cells": [
  {
   "cell_type": "code",
   "execution_count": null,
   "metadata": {},
   "outputs": [],
   "source": [
    "import numpy as np\n",
    "import matplotlib.pyplot as plt\n",
    "import os\n",
    "import pandas as pd\n",
    "import seaborn as sns"
   ]
  },
  {
   "cell_type": "markdown",
   "metadata": {},
   "source": [
    "## Merge all bedpe files"
   ]
  },
  {
   "cell_type": "code",
   "execution_count": null,
   "metadata": {},
   "outputs": [],
   "source": [
    "folder_location = \"C:/PhD/Rotations/Rotation_1/data/SV2/bedpe\""
   ]
  },
  {
   "cell_type": "code",
   "execution_count": null,
   "metadata": {},
   "outputs": [],
   "source": [
    "#1. read in all bedpe files\n",
    "bedpelist = list()\n",
    "for a in os.listdir(folder_location):\n",
    "    if a.endswith(\".bedpe\"):\n",
    "        afile = pd.read_csv(folder_location + a,\n",
    "                           sep=\"\\t\",lineterminator='\\n',names=range(11))\n",
    "        afile[\"samples\"] = a.split(\"-\")[0]\n",
    "        afile.columns = [\"Chrom1\",\"start1\",\"end1\",\"Chrom2\",\"start2\",\"end2\",\"type\",\"score\",\"number1\",\"number2\",\"number3\",\"samples\"]\n",
    "        bedpelist.append(afile)\n",
    "\n",
    "alldf = bedpelist[0]\n",
    "for element in bedpelist[1:]:\n",
    "    alldf = alldf.append(element)\n",
    "print(alldf.shape)\n",
    "print(alldf.samples.unique())\n",
    "\n",
    "#2. add population information\n",
    "popdf = pd.read_excel(\"C:/PhD/Rotations/Rotation_1/70_samples.xlsx\")\n",
    "popdf.columns = [\"sample_names\"]+list(popdf.columns.values[1:])\n",
    "popdf[\"samples\"] = popdf[\"sample_names\"].str.split(\"_\",1).str[1]\n",
    "subpopdf = popdf[[\"samples\",\"Description\"]]\n",
    "jointdf = pd.merge(alldf, subpopdf, on='samples')\n",
    "print(jointdf.shape)\n",
    "\n",
    "jointdf[\"Chrom1\"] = pd.Categorical(jointdf[\"Chrom1\"],categories = [\"chr\" + n for n in map(str,range(1,23))+[\"X\",\"Y\"]])\n",
    "jointdf[\"Chrom2\"] = pd.Categorical(jointdf[\"Chrom2\"],categories = [\"chr\" + n for n in map(str,range(1,23))+[\"X\",\"Y\"]])\n",
    "jointdf = jointdf.loc[:,[\"Chrom1\",\"start1\",\"end1\",\"Chrom2\",\"start2\",\"end2\",\"type\",\"score\",\"samples\",\"Description\"]]"
   ]
  },
  {
   "cell_type": "code",
   "execution_count": null,
   "metadata": {},
   "outputs": [],
   "source": []
  },
  {
   "cell_type": "code",
   "execution_count": null,
   "metadata": {},
   "outputs": [],
   "source": []
  },
  {
   "cell_type": "code",
   "execution_count": null,
   "metadata": {},
   "outputs": [],
   "source": []
  }
 ],
 "metadata": {
  "kernelspec": {
   "display_name": "Python 2",
   "language": "python",
   "name": "python2"
  },
  "language_info": {
   "codemirror_mode": {
    "name": "ipython",
    "version": 2
   },
   "file_extension": ".py",
   "mimetype": "text/x-python",
   "name": "python",
   "nbconvert_exporter": "python",
   "pygments_lexer": "ipython2",
   "version": "2.7.16"
  }
 },
 "nbformat": 4,
 "nbformat_minor": 2
}
