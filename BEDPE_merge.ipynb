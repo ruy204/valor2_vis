{
 "cells": [
  {
   "cell_type": "code",
   "execution_count": 1,
   "metadata": {},
   "outputs": [],
   "source": [
    "import numpy as np\n",
    "import matplotlib.pyplot as plt\n",
    "import os\n",
    "import pandas as pd\n",
    "import seaborn as sns"
   ]
  },
  {
   "cell_type": "markdown",
   "metadata": {},
   "source": [
    "## Merge all bedpe files"
   ]
  },
  {
   "cell_type": "code",
   "execution_count": 2,
   "metadata": {},
   "outputs": [],
   "source": [
    "folder_location = \"C:/PhD/Rotations/Rotation_1/data/SV2/bedpe/file_download/\""
   ]
  },
  {
   "cell_type": "code",
   "execution_count": 3,
   "metadata": {},
   "outputs": [
    {
     "name": "stdout",
     "output_type": "stream",
     "text": [
      "(2202, 12)\n",
      "['HG00276' 'HG00436' 'HG00589' 'HG01190' 'NA06991' 'NA07029' 'NA07055'\n",
      " 'NA07056' 'NA07348' 'NA07357' 'NA10831' 'NA10847' 'NA10851' 'NA10854'\n",
      " 'NA11832' 'NA11839' 'NA11993' 'NA12003' 'NA12006' 'NA12145' 'NA12156'\n",
      " 'NA12717' 'NA12813' 'NA12873' 'NA18484' 'NA18509' 'NA18518' 'NA18519'\n",
      " 'NA18524' 'NA18526' 'NA18540' 'NA18544' 'NA18552' 'NA18564' 'NA18565'\n",
      " 'NA18617' 'NA18855' 'NA18861' 'NA18868' 'NA18942' 'NA18952' 'NA18959'\n",
      " 'NA18966' 'NA18973' 'NA18980' 'NA18992' 'NA19003' 'NA19007' 'NA19095'\n",
      " 'NA19109' 'NA19122' 'NA19143' 'NA19147' 'NA19174' 'NA19176' 'NA19178'\n",
      " 'NA19207' 'NA19213' 'NA19226' 'NA19239' 'NA19789' 'NA19819' 'NA19908'\n",
      " 'NA19917' 'NA19920' 'NA20296' 'NA20509' 'NA21781']\n",
      "(2202, 13)\n"
     ]
    }
   ],
   "source": [
    "#1. read in all bedpe files\n",
    "bedpelist = list()\n",
    "for a in os.listdir(folder_location):\n",
    "    if a.endswith(\".bedpe\"):\n",
    "        afile = pd.read_csv(folder_location + a,\n",
    "                           sep=\"\\t\",lineterminator='\\n',names=range(11))\n",
    "        afile[\"samples\"] = a.split(\"-\")[0]\n",
    "        afile.columns = [\"Chrom1\",\"start1\",\"end1\",\"Chrom2\",\"start2\",\"end2\",\"type\",\"score\",\"number1\",\"number2\",\"number3\",\"samples\"]\n",
    "        bedpelist.append(afile)\n",
    "\n",
    "alldf = bedpelist[0]\n",
    "for element in bedpelist[1:]:\n",
    "    alldf = alldf.append(element)\n",
    "print(alldf.shape)\n",
    "print(alldf.samples.unique())\n",
    "\n",
    "#2. add population information\n",
    "popdf = pd.read_excel(\"C:/PhD/Rotations/Rotation_1/70_samples.xlsx\")\n",
    "popdf.columns = [\"sample_names\"]+list(popdf.columns.values[1:])\n",
    "popdf[\"samples\"] = popdf[\"sample_names\"].str.split(\"_\",1).str[1]\n",
    "subpopdf = popdf[[\"samples\",\"Description\"]]\n",
    "jointdf = pd.merge(alldf, subpopdf, on='samples')\n",
    "print(jointdf.shape)\n",
    "\n",
    "jointdf[\"Chrom1\"] = pd.Categorical(jointdf[\"Chrom1\"],categories = [\"chr\" + n for n in map(str,range(1,23))+[\"X\",\"Y\"]])\n",
    "jointdf[\"Chrom2\"] = pd.Categorical(jointdf[\"Chrom2\"],categories = [\"chr\" + n for n in map(str,range(1,23))+[\"X\",\"Y\"]])\n",
    "jointdf = jointdf.loc[:,[\"Chrom1\",\"start1\",\"end1\",\"Chrom2\",\"start2\",\"end2\",\"type\",\"score\",\"samples\",\"Description\"]]\n",
    "\n",
    "jointdf.to_csv(\"C:/PhD/Rotations/Rotation_1/data/SV2/bedpe/combine/jointdf.bedpe\",sep=\"\\t\",index=False,header=False)"
   ]
  },
  {
   "cell_type": "code",
   "execution_count": 4,
   "metadata": {},
   "outputs": [
    {
     "data": {
      "text/html": [
       "<div>\n",
       "<style scoped>\n",
       "    .dataframe tbody tr th:only-of-type {\n",
       "        vertical-align: middle;\n",
       "    }\n",
       "\n",
       "    .dataframe tbody tr th {\n",
       "        vertical-align: top;\n",
       "    }\n",
       "\n",
       "    .dataframe thead th {\n",
       "        text-align: right;\n",
       "    }\n",
       "</style>\n",
       "<table border=\"1\" class=\"dataframe\">\n",
       "  <thead>\n",
       "    <tr style=\"text-align: right;\">\n",
       "      <th></th>\n",
       "      <th>Chrom1</th>\n",
       "      <th>start1</th>\n",
       "      <th>end1</th>\n",
       "      <th>Chrom2</th>\n",
       "      <th>start2</th>\n",
       "      <th>end2</th>\n",
       "      <th>type</th>\n",
       "      <th>score</th>\n",
       "      <th>samples</th>\n",
       "      <th>Description</th>\n",
       "    </tr>\n",
       "  </thead>\n",
       "  <tbody>\n",
       "    <tr>\n",
       "      <th>0</th>\n",
       "      <td>chr1</td>\n",
       "      <td>104171777</td>\n",
       "      <td>104170258</td>\n",
       "      <td>chr1</td>\n",
       "      <td>104266694</td>\n",
       "      <td>104266163</td>\n",
       "      <td>inversion</td>\n",
       "      <td>73</td>\n",
       "      <td>HG00276</td>\n",
       "      <td>Finnish</td>\n",
       "    </tr>\n",
       "    <tr>\n",
       "      <th>1</th>\n",
       "      <td>chr1</td>\n",
       "      <td>149334889</td>\n",
       "      <td>149334380</td>\n",
       "      <td>chr1</td>\n",
       "      <td>149722886</td>\n",
       "      <td>149721259</td>\n",
       "      <td>inversion</td>\n",
       "      <td>24</td>\n",
       "      <td>HG00276</td>\n",
       "      <td>Finnish</td>\n",
       "    </tr>\n",
       "    <tr>\n",
       "      <th>2</th>\n",
       "      <td>chr1</td>\n",
       "      <td>149266252</td>\n",
       "      <td>149266280</td>\n",
       "      <td>chr1</td>\n",
       "      <td>149651969</td>\n",
       "      <td>149650856</td>\n",
       "      <td>inversion</td>\n",
       "      <td>19</td>\n",
       "      <td>HG00276</td>\n",
       "      <td>Finnish</td>\n",
       "    </tr>\n",
       "    <tr>\n",
       "      <th>3</th>\n",
       "      <td>chr2</td>\n",
       "      <td>87573422</td>\n",
       "      <td>87571824</td>\n",
       "      <td>chr2</td>\n",
       "      <td>91762909</td>\n",
       "      <td>91761936</td>\n",
       "      <td>inversion</td>\n",
       "      <td>14</td>\n",
       "      <td>HG00276</td>\n",
       "      <td>Finnish</td>\n",
       "    </tr>\n",
       "    <tr>\n",
       "      <th>4</th>\n",
       "      <td>chr2</td>\n",
       "      <td>89122655</td>\n",
       "      <td>89132244</td>\n",
       "      <td>chr2</td>\n",
       "      <td>89521742</td>\n",
       "      <td>89530369</td>\n",
       "      <td>deletion</td>\n",
       "      <td>6</td>\n",
       "      <td>HG00276</td>\n",
       "      <td>Finnish</td>\n",
       "    </tr>\n",
       "  </tbody>\n",
       "</table>\n",
       "</div>"
      ],
      "text/plain": [
       "  Chrom1     start1       end1 Chrom2     start2       end2       type  score  \\\n",
       "0   chr1  104171777  104170258   chr1  104266694  104266163  inversion     73   \n",
       "1   chr1  149334889  149334380   chr1  149722886  149721259  inversion     24   \n",
       "2   chr1  149266252  149266280   chr1  149651969  149650856  inversion     19   \n",
       "3   chr2   87573422   87571824   chr2   91762909   91761936  inversion     14   \n",
       "4   chr2   89122655   89132244   chr2   89521742   89530369   deletion      6   \n",
       "\n",
       "   samples Description  \n",
       "0  HG00276     Finnish  \n",
       "1  HG00276     Finnish  \n",
       "2  HG00276     Finnish  \n",
       "3  HG00276     Finnish  \n",
       "4  HG00276     Finnish  "
      ]
     },
     "execution_count": 4,
     "metadata": {},
     "output_type": "execute_result"
    }
   ],
   "source": [
    "jointdf.head()"
   ]
  },
  {
   "cell_type": "code",
   "execution_count": 5,
   "metadata": {},
   "outputs": [
    {
     "data": {
      "text/plain": [
       "68"
      ]
     },
     "execution_count": 5,
     "metadata": {},
     "output_type": "execute_result"
    }
   ],
   "source": [
    "jointdf.samples.nunique()"
   ]
  },
  {
   "cell_type": "code",
   "execution_count": null,
   "metadata": {},
   "outputs": [],
   "source": []
  }
 ],
 "metadata": {
  "kernelspec": {
   "display_name": "Python 2",
   "language": "python",
   "name": "python2"
  },
  "language_info": {
   "codemirror_mode": {
    "name": "ipython",
    "version": 2
   },
   "file_extension": ".py",
   "mimetype": "text/x-python",
   "name": "python",
   "nbconvert_exporter": "python",
   "pygments_lexer": "ipython2",
   "version": "2.7.16"
  }
 },
 "nbformat": 4,
 "nbformat_minor": 2
}
